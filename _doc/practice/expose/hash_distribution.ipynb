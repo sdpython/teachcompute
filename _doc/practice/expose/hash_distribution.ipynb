{
 "cells": [
  {
   "cell_type": "markdown",
   "metadata": {},
   "source": [
    "# Hash et distribution\n",
    "\n",
    "Une [fonction de hash](https://en.wikipedia.org/wiki/Hash_function) a pour propriété statistiques de transformer une distribution quelconque en distribution uniforme. C'est pour cela que beaucoup d'algorithmes utilisent ce type de fonction avant tout traitement pour répartir les données de manières uniformes plutôt que d'utiliser une variable une colonne telle quelle."
   ]
  },
  {
   "cell_type": "code",
   "execution_count": 5,
   "metadata": {
    "ExecuteTime": {
     "end_time": "2016-11-05T15:54:02.328548",
     "start_time": "2016-11-05T15:54:02.314546"
    }
   },
   "outputs": [],
   "source": [
    "%matplotlib inline\n",
    "import matplotlib.pyplot as plt"
   ]
  },
  {
   "cell_type": "markdown",
   "metadata": {},
   "source": [
    "## Récupérer un fichier wikipédia"
   ]
  },
  {
   "cell_type": "code",
   "execution_count": 6,
   "metadata": {
    "ExecuteTime": {
     "end_time": "2016-11-05T15:23:15.295619",
     "start_time": "2016-11-05T15:22:28.337739"
    }
   },
   "outputs": [
    {
     "data": {
      "text/plain": [
       "'./pageviews-20180201-000000.gz'"
      ]
     },
     "execution_count": 6,
     "metadata": {},
     "output_type": "execute_result"
    }
   ],
   "source": [
    "from mlstatpy.data.wikipedia import download_pageviews\n",
    "import os\n",
    "from datetime import datetime\n",
    "\n",
    "download_pageviews(datetime(2018, 2, 1), folder=\".\")"
   ]
  },
  {
   "cell_type": "markdown",
   "metadata": {
    "ExecuteTime": {
     "end_time": "2016-11-05T15:24:45.698455",
     "start_time": "2016-11-05T15:24:45.690457"
    }
   },
   "source": [
    "On ne garde que les pages françaises."
   ]
  },
  {
   "cell_type": "code",
   "execution_count": 7,
   "metadata": {
    "ExecuteTime": {
     "end_time": "2016-11-05T15:29:31.840352",
     "start_time": "2016-11-05T15:29:27.522790"
    }
   },
   "outputs": [],
   "source": [
    "with open(\"pageviews-20180201-000000\", \"r\", encoding=\"utf-8\") as f:\n",
    "    fr = filter(lambda line: line.startswith(\"fr \"), f)\n",
    "    with open(\"pageviews-20180201-000000.fr.txt\", \"w\", encoding=\"utf-8\") as g:\n",
    "        for line in fr:\n",
    "            g.write(line)"
   ]
  },
  {
   "cell_type": "code",
   "execution_count": 8,
   "metadata": {
    "ExecuteTime": {
     "end_time": "2016-11-05T15:29:50.180490",
     "start_time": "2016-11-05T15:29:49.934039"
    }
   },
   "outputs": [
    {
     "name": "stdout",
     "output_type": "stream",
     "text": [
      "(136440, 2)\n"
     ]
    },
    {
     "data": {
      "text/html": [
       "<div>\n",
       "<style scoped>\n",
       "    .dataframe tbody tr th:only-of-type {\n",
       "        vertical-align: middle;\n",
       "    }\n",
       "\n",
       "    .dataframe tbody tr th {\n",
       "        vertical-align: top;\n",
       "    }\n",
       "\n",
       "    .dataframe thead th {\n",
       "        text-align: right;\n",
       "    }\n",
       "</style>\n",
       "<table border=\"1\" class=\"dataframe\">\n",
       "  <thead>\n",
       "    <tr style=\"text-align: right;\">\n",
       "      <th></th>\n",
       "      <th>page</th>\n",
       "      <th>impressions</th>\n",
       "    </tr>\n",
       "  </thead>\n",
       "  <tbody>\n",
       "    <tr>\n",
       "      <th>131064</th>\n",
       "      <td>Wikipédia:Accueil_principal</td>\n",
       "      <td>10868</td>\n",
       "    </tr>\n",
       "    <tr>\n",
       "      <th>115817</th>\n",
       "      <td>Sp?cial:Search</td>\n",
       "      <td>8031</td>\n",
       "    </tr>\n",
       "    <tr>\n",
       "      <th>116771</th>\n",
       "      <td>Spécial:Recherche</td>\n",
       "      <td>2815</td>\n",
       "    </tr>\n",
       "    <tr>\n",
       "      <th>95020</th>\n",
       "      <td>Patrick_Dils</td>\n",
       "      <td>841</td>\n",
       "    </tr>\n",
       "    <tr>\n",
       "      <th>44847</th>\n",
       "      <td>France</td>\n",
       "      <td>668</td>\n",
       "    </tr>\n",
       "  </tbody>\n",
       "</table>\n",
       "</div>"
      ],
      "text/plain": [
       "                               page  impressions\n",
       "131064  Wikipédia:Accueil_principal        10868\n",
       "115817               Sp?cial:Search         8031\n",
       "116771            Spécial:Recherche         2815\n",
       "95020                  Patrick_Dils          841\n",
       "44847                        France          668"
      ]
     },
     "execution_count": 8,
     "metadata": {},
     "output_type": "execute_result"
    }
   ],
   "source": [
    "import pandas\n",
    "\n",
    "df = pandas.read_csv(\n",
    "    \"pageviews-20180201-000000.fr.txt\", encoding=\"utf-8\", sep=\" \", header=None\n",
    ")\n",
    "df.columns = \"country page impressions _\".split()\n",
    "df = df[[\"page\", \"impressions\"]]\n",
    "df = df.sort_values(\"impressions\", ascending=False)\n",
    "print(df.shape)\n",
    "df.head()"
   ]
  },
  {
   "cell_type": "markdown",
   "metadata": {},
   "source": [
    "Les données sont biaisées car les pages non démandées par les utilisateurs sur cett date ne sont pas répertoriées mais cela ne nuit pas à la démonstration faite ci-dessous."
   ]
  },
  {
   "cell_type": "markdown",
   "metadata": {},
   "source": [
    "## Distribution volume, impressions par rapprt au premier caractère"
   ]
  },
  {
   "cell_type": "code",
   "execution_count": 9,
   "metadata": {
    "ExecuteTime": {
     "end_time": "2016-11-05T15:31:12.869696",
     "start_time": "2016-11-05T15:31:12.741686"
    }
   },
   "outputs": [
    {
     "data": {
      "text/html": [
       "<div>\n",
       "<style scoped>\n",
       "    .dataframe tbody tr th:only-of-type {\n",
       "        vertical-align: middle;\n",
       "    }\n",
       "\n",
       "    .dataframe tbody tr th {\n",
       "        vertical-align: top;\n",
       "    }\n",
       "\n",
       "    .dataframe thead th {\n",
       "        text-align: right;\n",
       "    }\n",
       "</style>\n",
       "<table border=\"1\" class=\"dataframe\">\n",
       "  <thead>\n",
       "    <tr style=\"text-align: right;\">\n",
       "      <th></th>\n",
       "      <th>page</th>\n",
       "      <th>impressions</th>\n",
       "      <th>ch1</th>\n",
       "    </tr>\n",
       "  </thead>\n",
       "  <tbody>\n",
       "    <tr>\n",
       "      <th>131064</th>\n",
       "      <td>Wikipédia:Accueil_principal</td>\n",
       "      <td>10868</td>\n",
       "      <td>W</td>\n",
       "    </tr>\n",
       "    <tr>\n",
       "      <th>115817</th>\n",
       "      <td>Sp?cial:Search</td>\n",
       "      <td>8031</td>\n",
       "      <td>S</td>\n",
       "    </tr>\n",
       "    <tr>\n",
       "      <th>116771</th>\n",
       "      <td>Spécial:Recherche</td>\n",
       "      <td>2815</td>\n",
       "      <td>S</td>\n",
       "    </tr>\n",
       "    <tr>\n",
       "      <th>95020</th>\n",
       "      <td>Patrick_Dils</td>\n",
       "      <td>841</td>\n",
       "      <td>P</td>\n",
       "    </tr>\n",
       "    <tr>\n",
       "      <th>44847</th>\n",
       "      <td>France</td>\n",
       "      <td>668</td>\n",
       "      <td>F</td>\n",
       "    </tr>\n",
       "  </tbody>\n",
       "</table>\n",
       "</div>"
      ],
      "text/plain": [
       "                               page  impressions ch1\n",
       "131064  Wikipédia:Accueil_principal        10868   W\n",
       "115817               Sp?cial:Search         8031   S\n",
       "116771            Spécial:Recherche         2815   S\n",
       "95020                  Patrick_Dils          841   P\n",
       "44847                        France          668   F"
      ]
     },
     "execution_count": 9,
     "metadata": {},
     "output_type": "execute_result"
    }
   ],
   "source": [
    "df[\"ch1\"] = df[\"page\"].apply(lambda r: r[0] if isinstance(r, str) else r)\n",
    "df.head()"
   ]
  },
  {
   "cell_type": "code",
   "execution_count": 10,
   "metadata": {
    "ExecuteTime": {
     "end_time": "2016-11-05T15:34:10.528138",
     "start_time": "2016-11-05T15:34:10.462105"
    }
   },
   "outputs": [
    {
     "data": {
      "text/html": [
       "<div>\n",
       "<style scoped>\n",
       "    .dataframe tbody tr th:only-of-type {\n",
       "        vertical-align: middle;\n",
       "    }\n",
       "\n",
       "    .dataframe tbody tr th {\n",
       "        vertical-align: top;\n",
       "    }\n",
       "\n",
       "    .dataframe thead th {\n",
       "        text-align: right;\n",
       "    }\n",
       "</style>\n",
       "<table border=\"1\" class=\"dataframe\">\n",
       "  <thead>\n",
       "    <tr style=\"text-align: right;\">\n",
       "      <th></th>\n",
       "      <th>ch1</th>\n",
       "      <th>page</th>\n",
       "      <th>impressions</th>\n",
       "      <th>volume</th>\n",
       "    </tr>\n",
       "  </thead>\n",
       "  <tbody>\n",
       "    <tr>\n",
       "      <th>0</th>\n",
       "      <td>$</td>\n",
       "      <td>$</td>\n",
       "      <td>2</td>\n",
       "      <td>1</td>\n",
       "    </tr>\n",
       "    <tr>\n",
       "      <th>1</th>\n",
       "      <td>&amp;</td>\n",
       "      <td>&amp;_(album)</td>\n",
       "      <td>1</td>\n",
       "      <td>1</td>\n",
       "    </tr>\n",
       "    <tr>\n",
       "      <th>2</th>\n",
       "      <td>'</td>\n",
       "      <td>'Ndrangheta'Alî_Sharî'atî'Mamohato'Îmran</td>\n",
       "      <td>8</td>\n",
       "      <td>4</td>\n",
       "    </tr>\n",
       "    <tr>\n",
       "      <th>3</th>\n",
       "      <td>(</td>\n",
       "      <td>(3753)_Cruithne(What's_the_Story)_Morning_Glor...</td>\n",
       "      <td>60</td>\n",
       "      <td>54</td>\n",
       "    </tr>\n",
       "    <tr>\n",
       "      <th>4</th>\n",
       "      <td>-</td>\n",
       "      <td>--17-16-92-93-305-18-19-20-241-304</td>\n",
       "      <td>249</td>\n",
       "      <td>11</td>\n",
       "    </tr>\n",
       "  </tbody>\n",
       "</table>\n",
       "</div>"
      ],
      "text/plain": [
       "  ch1                                               page  impressions  volume\n",
       "0   $                                                  $            2       1\n",
       "1   &                                          &_(album)            1       1\n",
       "2   '           'Ndrangheta'Alî_Sharî'atî'Mamohato'Îmran            8       4\n",
       "3   (  (3753)_Cruithne(What's_the_Story)_Morning_Glor...           60      54\n",
       "4   -                 --17-16-92-93-305-18-19-20-241-304          249      11"
      ]
     },
     "execution_count": 10,
     "metadata": {},
     "output_type": "execute_result"
    }
   ],
   "source": [
    "co = df.copy()\n",
    "co[\"volume\"] = 1\n",
    "gr = co.groupby(\"ch1\", as_index=False).sum().sort_values(\"ch1\")\n",
    "gr.head()"
   ]
  },
  {
   "cell_type": "code",
   "execution_count": 11,
   "metadata": {
    "ExecuteTime": {
     "end_time": "2016-11-05T15:35:36.166922",
     "start_time": "2016-11-05T15:35:35.653742"
    }
   },
   "outputs": [
    {
     "data": {
      "text/plain": [
       "<Axes: xlabel='ch1'>"
      ]
     },
     "execution_count": 11,
     "metadata": {},
     "output_type": "execute_result"
    },
    {
     "data": {
      "image/png": "[encoded data removed]",
      "text/plain": [
       "<Figure size 1400x400 with 1 Axes>"
      ]
     },
     "metadata": {},
     "output_type": "display_data"
    }
   ],
   "source": [
    "gr[(gr[\"ch1\"] >= \"A\") & (gr[\"ch1\"] <= \"Z\")].plot(\n",
    "    x=\"ch1\", y=[\"impressions\", \"volume\"], kind=\"bar\", figsize=(14, 4)\n",
    ")"
   ]
  },
  {
   "cell_type": "markdown",
   "metadata": {},
   "source": [
    "Il est possible de distribuer les impressions et les volumns sur plusieurs machines mais ce serait beaucoup plus simple si les volumes (volume de données) et les impressions (usage de ces données) suivent des distributions identiques."
   ]
  },
  {
   "cell_type": "markdown",
   "metadata": {},
   "source": [
    "## Distribution après hashage"
   ]
  },
  {
   "cell_type": "code",
   "execution_count": 12,
   "metadata": {
    "ExecuteTime": {
     "end_time": "2016-11-05T15:39:49.277534",
     "start_time": "2016-11-05T15:39:49.268529"
    }
   },
   "outputs": [
    {
     "data": {
      "text/plain": [
       "'0309a6c666a7a803fdb9db95de71cf01'"
      ]
     },
     "execution_count": 12,
     "metadata": {},
     "output_type": "execute_result"
    }
   ],
   "source": [
    "import hashlib\n",
    "\n",
    "\n",
    "def hash(text):\n",
    "    md5 = hashlib.md5()\n",
    "    md5.update(text.encode(\"utf-8\"))\n",
    "    return md5.hexdigest()\n",
    "\n",
    "\n",
    "hash(\"France\")"
   ]
  },
  {
   "cell_type": "code",
   "execution_count": 13,
   "metadata": {
    "ExecuteTime": {
     "end_time": "2016-11-05T15:40:42.198890",
     "start_time": "2016-11-05T15:40:41.705045"
    }
   },
   "outputs": [
    {
     "data": {
      "text/html": [
       "<div>\n",
       "<style scoped>\n",
       "    .dataframe tbody tr th:only-of-type {\n",
       "        vertical-align: middle;\n",
       "    }\n",
       "\n",
       "    .dataframe tbody tr th {\n",
       "        vertical-align: top;\n",
       "    }\n",
       "\n",
       "    .dataframe thead th {\n",
       "        text-align: right;\n",
       "    }\n",
       "</style>\n",
       "<table border=\"1\" class=\"dataframe\">\n",
       "  <thead>\n",
       "    <tr style=\"text-align: right;\">\n",
       "      <th></th>\n",
       "      <th>page</th>\n",
       "      <th>impressions</th>\n",
       "      <th>ch1</th>\n",
       "      <th>volume</th>\n",
       "      <th>hash</th>\n",
       "    </tr>\n",
       "  </thead>\n",
       "  <tbody>\n",
       "    <tr>\n",
       "      <th>131064</th>\n",
       "      <td>Wikipédia:Accueil_principal</td>\n",
       "      <td>10868</td>\n",
       "      <td>W</td>\n",
       "      <td>1</td>\n",
       "      <td>6cc68aa5234cb8c4e129d5b431eea95a</td>\n",
       "    </tr>\n",
       "    <tr>\n",
       "      <th>115817</th>\n",
       "      <td>Sp?cial:Search</td>\n",
       "      <td>8031</td>\n",
       "      <td>S</td>\n",
       "      <td>1</td>\n",
       "      <td>e4c619292a0e11c8afba20eb4531cbf8</td>\n",
       "    </tr>\n",
       "    <tr>\n",
       "      <th>116771</th>\n",
       "      <td>Spécial:Recherche</td>\n",
       "      <td>2815</td>\n",
       "      <td>S</td>\n",
       "      <td>1</td>\n",
       "      <td>6f86a30966129c5bf50147eb44c4e82c</td>\n",
       "    </tr>\n",
       "    <tr>\n",
       "      <th>95020</th>\n",
       "      <td>Patrick_Dils</td>\n",
       "      <td>841</td>\n",
       "      <td>P</td>\n",
       "      <td>1</td>\n",
       "      <td>624f2274ebdbb30187e57d430c58990d</td>\n",
       "    </tr>\n",
       "    <tr>\n",
       "      <th>44847</th>\n",
       "      <td>France</td>\n",
       "      <td>668</td>\n",
       "      <td>F</td>\n",
       "      <td>1</td>\n",
       "      <td>0309a6c666a7a803fdb9db95de71cf01</td>\n",
       "    </tr>\n",
       "  </tbody>\n",
       "</table>\n",
       "</div>"
      ],
      "text/plain": [
       "                               page  impressions ch1  volume  \\\n",
       "131064  Wikipédia:Accueil_principal        10868   W       1   \n",
       "115817               Sp?cial:Search         8031   S       1   \n",
       "116771            Spécial:Recherche         2815   S       1   \n",
       "95020                  Patrick_Dils          841   P       1   \n",
       "44847                        France          668   F       1   \n",
       "\n",
       "                                    hash  \n",
       "131064  6cc68aa5234cb8c4e129d5b431eea95a  \n",
       "115817  e4c619292a0e11c8afba20eb4531cbf8  \n",
       "116771  6f86a30966129c5bf50147eb44c4e82c  \n",
       "95020   624f2274ebdbb30187e57d430c58990d  \n",
       "44847   0309a6c666a7a803fdb9db95de71cf01  "
      ]
     },
     "execution_count": 13,
     "metadata": {},
     "output_type": "execute_result"
    }
   ],
   "source": [
    "ha = co.copy()\n",
    "ha[\"hash\"] = ha[\"page\"].apply(lambda r: hash(r) if isinstance(r, str) else r)\n",
    "ha.head()"
   ]
  },
  {
   "cell_type": "code",
   "execution_count": 14,
   "metadata": {
    "ExecuteTime": {
     "end_time": "2016-11-05T15:41:38.768438",
     "start_time": "2016-11-05T15:41:38.646889"
    }
   },
   "outputs": [
    {
     "data": {
      "text/html": [
       "<div>\n",
       "<style scoped>\n",
       "    .dataframe tbody tr th:only-of-type {\n",
       "        vertical-align: middle;\n",
       "    }\n",
       "\n",
       "    .dataframe tbody tr th {\n",
       "        vertical-align: top;\n",
       "    }\n",
       "\n",
       "    .dataframe thead th {\n",
       "        text-align: right;\n",
       "    }\n",
       "</style>\n",
       "<table border=\"1\" class=\"dataframe\">\n",
       "  <thead>\n",
       "    <tr style=\"text-align: right;\">\n",
       "      <th></th>\n",
       "      <th>page</th>\n",
       "      <th>impressions</th>\n",
       "      <th>ch1</th>\n",
       "      <th>volume</th>\n",
       "      <th>hash</th>\n",
       "      <th>ch2</th>\n",
       "    </tr>\n",
       "  </thead>\n",
       "  <tbody>\n",
       "    <tr>\n",
       "      <th>131064</th>\n",
       "      <td>Wikipédia:Accueil_principal</td>\n",
       "      <td>10868</td>\n",
       "      <td>W</td>\n",
       "      <td>1</td>\n",
       "      <td>6cc68aa5234cb8c4e129d5b431eea95a</td>\n",
       "      <td>6</td>\n",
       "    </tr>\n",
       "    <tr>\n",
       "      <th>115817</th>\n",
       "      <td>Sp?cial:Search</td>\n",
       "      <td>8031</td>\n",
       "      <td>S</td>\n",
       "      <td>1</td>\n",
       "      <td>e4c619292a0e11c8afba20eb4531cbf8</td>\n",
       "      <td>e</td>\n",
       "    </tr>\n",
       "    <tr>\n",
       "      <th>116771</th>\n",
       "      <td>Spécial:Recherche</td>\n",
       "      <td>2815</td>\n",
       "      <td>S</td>\n",
       "      <td>1</td>\n",
       "      <td>6f86a30966129c5bf50147eb44c4e82c</td>\n",
       "      <td>6</td>\n",
       "    </tr>\n",
       "    <tr>\n",
       "      <th>95020</th>\n",
       "      <td>Patrick_Dils</td>\n",
       "      <td>841</td>\n",
       "      <td>P</td>\n",
       "      <td>1</td>\n",
       "      <td>624f2274ebdbb30187e57d430c58990d</td>\n",
       "      <td>6</td>\n",
       "    </tr>\n",
       "    <tr>\n",
       "      <th>44847</th>\n",
       "      <td>France</td>\n",
       "      <td>668</td>\n",
       "      <td>F</td>\n",
       "      <td>1</td>\n",
       "      <td>0309a6c666a7a803fdb9db95de71cf01</td>\n",
       "      <td>0</td>\n",
       "    </tr>\n",
       "  </tbody>\n",
       "</table>\n",
       "</div>"
      ],
      "text/plain": [
       "                               page  impressions ch1  volume  \\\n",
       "131064  Wikipédia:Accueil_principal        10868   W       1   \n",
       "115817               Sp?cial:Search         8031   S       1   \n",
       "116771            Spécial:Recherche         2815   S       1   \n",
       "95020                  Patrick_Dils          841   P       1   \n",
       "44847                        France          668   F       1   \n",
       "\n",
       "                                    hash ch2  \n",
       "131064  6cc68aa5234cb8c4e129d5b431eea95a   6  \n",
       "115817  e4c619292a0e11c8afba20eb4531cbf8   e  \n",
       "116771  6f86a30966129c5bf50147eb44c4e82c   6  \n",
       "95020   624f2274ebdbb30187e57d430c58990d   6  \n",
       "44847   0309a6c666a7a803fdb9db95de71cf01   0  "
      ]
     },
     "execution_count": 14,
     "metadata": {},
     "output_type": "execute_result"
    }
   ],
   "source": [
    "ha[\"ch2\"] = ha[\"hash\"].apply(lambda r: r[0] if isinstance(r, str) else r)\n",
    "ha.head()"
   ]
  },
  {
   "cell_type": "code",
   "execution_count": 15,
   "metadata": {
    "ExecuteTime": {
     "end_time": "2016-11-05T15:42:15.235400",
     "start_time": "2016-11-05T15:42:15.178888"
    }
   },
   "outputs": [
    {
     "data": {
      "text/html": [
       "<div>\n",
       "<style scoped>\n",
       "    .dataframe tbody tr th:only-of-type {\n",
       "        vertical-align: middle;\n",
       "    }\n",
       "\n",
       "    .dataframe tbody tr th {\n",
       "        vertical-align: top;\n",
       "    }\n",
       "\n",
       "    .dataframe thead th {\n",
       "        text-align: right;\n",
       "    }\n",
       "</style>\n",
       "<table border=\"1\" class=\"dataframe\">\n",
       "  <thead>\n",
       "    <tr style=\"text-align: right;\">\n",
       "      <th></th>\n",
       "      <th>ch2</th>\n",
       "      <th>page</th>\n",
       "      <th>impressions</th>\n",
       "      <th>ch1</th>\n",
       "      <th>volume</th>\n",
       "      <th>hash</th>\n",
       "    </tr>\n",
       "  </thead>\n",
       "  <tbody>\n",
       "    <tr>\n",
       "      <th>0</th>\n",
       "      <td>0</td>\n",
       "      <td>FranceSpécial:JournalLua_BlancoGitListe_des_ép...</td>\n",
       "      <td>18493</td>\n",
       "      <td>FSLGLLDLÎAÉJNDSÉSSCBBCJGASM1LAATSARAALDZJSMCML...</td>\n",
       "      <td>8531</td>\n",
       "      <td>0309a6c666a7a803fdb9db95de71cf010bc97f0b21a608...</td>\n",
       "    </tr>\n",
       "    <tr>\n",
       "      <th>1</th>\n",
       "      <td>1</td>\n",
       "      <td>Élisabeth_RevolGrand_ReimsÉdouard_LockroyNora_...</td>\n",
       "      <td>16615</td>\n",
       "      <td>ÉGÉNCTNNNSMSALJTRFLAPLVMWSCFDJJVCTBLHNLJLRDDFT...</td>\n",
       "      <td>8513</td>\n",
       "      <td>14edb218946d67eb425e08231e3c25b51f01421c8827b1...</td>\n",
       "    </tr>\n",
       "    <tr>\n",
       "      <th>2</th>\n",
       "      <td>2</td>\n",
       "      <td>Australie-OccidentaleRoger_FedererSpécial:List...</td>\n",
       "      <td>17276</td>\n",
       "      <td>ARSSSESNLYBP4NIAPAÉADNDLCPJLSCSNESLFSLNUSJSJPS...</td>\n",
       "      <td>8514</td>\n",
       "      <td>2350f0145112af1d3b70bdfe583dbfb6203b3bdfe59c7a...</td>\n",
       "    </tr>\n",
       "    <tr>\n",
       "      <th>3</th>\n",
       "      <td>3</td>\n",
       "      <td>Daniel_Balavoine-1er_févrierSid_ViciousLune_ro...</td>\n",
       "      <td>17219</td>\n",
       "      <td>D-1SLDSCACLCETFLBMBLBASSZDJHDDONCDTSASMQPABJBG...</td>\n",
       "      <td>8547</td>\n",
       "      <td>3f922364907f960c529c4a65ac44372e336d5ebc543653...</td>\n",
       "    </tr>\n",
       "    <tr>\n",
       "      <th>4</th>\n",
       "      <td>4</td>\n",
       "      <td>Rasual_ButlerPetra_(cygne)Mehdi_Carcela-Gonzal...</td>\n",
       "      <td>16847</td>\n",
       "      <td>RPMCTFTSEGPHDSACCCCBDLRHMHREPSMLRLLSISMLMPRNTS...</td>\n",
       "      <td>8468</td>\n",
       "      <td>4b85266e177e3327174b900be1d8147c4a2130906289ef...</td>\n",
       "    </tr>\n",
       "  </tbody>\n",
       "</table>\n",
       "</div>"
      ],
      "text/plain": [
       "  ch2                                               page  impressions  \\\n",
       "0   0  FranceSpécial:JournalLua_BlancoGitListe_des_ép...        18493   \n",
       "1   1  Élisabeth_RevolGrand_ReimsÉdouard_LockroyNora_...        16615   \n",
       "2   2  Australie-OccidentaleRoger_FedererSpécial:List...        17276   \n",
       "3   3  Daniel_Balavoine-1er_févrierSid_ViciousLune_ro...        17219   \n",
       "4   4  Rasual_ButlerPetra_(cygne)Mehdi_Carcela-Gonzal...        16847   \n",
       "\n",
       "                                                 ch1  volume  \\\n",
       "0  FSLGLLDLÎAÉJNDSÉSSCBBCJGASM1LAATSARAALDZJSMCML...    8531   \n",
       "1  ÉGÉNCTNNNSMSALJTRFLAPLVMWSCFDJJVCTBLHNLJLRDDFT...    8513   \n",
       "2  ARSSSESNLYBP4NIAPAÉADNDLCPJLSCSNESLFSLNUSJSJPS...    8514   \n",
       "3  D-1SLDSCACLCETFLBMBLBASSZDJHDDONCDTSASMQPABJBG...    8547   \n",
       "4  RPMCTFTSEGPHDSACCCCBDLRHMHREPSMLRLLSISMLMPRNTS...    8468   \n",
       "\n",
       "                                                hash  \n",
       "0  0309a6c666a7a803fdb9db95de71cf010bc97f0b21a608...  \n",
       "1  14edb218946d67eb425e08231e3c25b51f01421c8827b1...  \n",
       "2  2350f0145112af1d3b70bdfe583dbfb6203b3bdfe59c7a...  \n",
       "3  3f922364907f960c529c4a65ac44372e336d5ebc543653...  \n",
       "4  4b85266e177e3327174b900be1d8147c4a2130906289ef...  "
      ]
     },
     "execution_count": 15,
     "metadata": {},
     "output_type": "execute_result"
    }
   ],
   "source": [
    "gr = ha.groupby(\"ch2\", as_index=False).sum().sort_values(\"ch2\")\n",
    "gr.head()"
   ]
  },
  {
   "cell_type": "code",
   "execution_count": 16,
   "metadata": {
    "ExecuteTime": {
     "end_time": "2016-11-05T15:43:04.796228",
     "start_time": "2016-11-05T15:43:04.371960"
    }
   },
   "outputs": [
    {
     "data": {
      "text/plain": [
       "<Axes: xlabel='ch2'>"
      ]
     },
     "execution_count": 16,
     "metadata": {},
     "output_type": "execute_result"
    },
    {
     "data": {
      "image/png": "[encoded data removed]",
      "text/plain": [
       "<Figure size 1400x400 with 1 Axes>"
      ]
     },
     "metadata": {},
     "output_type": "display_data"
    }
   ],
   "source": [
    "gr.plot(x=\"ch2\", y=[\"impressions\", \"volume\"], kind=\"bar\", figsize=(14, 4))"
   ]
  },
  {
   "cell_type": "markdown",
   "metadata": {},
   "source": [
    "Après avoir appliqué une fonction de hashage, les deux distributions volumes et impressions sont presque uniforme par rapport au premier caractère du hash. Il reste un pic : il provient de la page wikipédia la plus demandée. Ces pages très demandées sont très souvent en très petit nombre et on implémentera une mécanisme de cache s'il s'agit d'un site web. En revanche, lors d'un calcul distribué sur Map / Reduce, un des problèmes consistera à traiter ces clés de distributions qui regroupent une part trop importante des données.\n",
    "\n",
    "On recommence le même raisonnement en utilisant les deux premiers caractères du hash comme clé de distribution."
   ]
  },
  {
   "cell_type": "code",
   "execution_count": 17,
   "metadata": {
    "ExecuteTime": {
     "end_time": "2016-11-05T15:57:15.095161",
     "start_time": "2016-11-05T15:57:14.464595"
    }
   },
   "outputs": [
    {
     "data": {
      "text/plain": [
       "<Axes: xlabel='ch12'>"
      ]
     },
     "execution_count": 17,
     "metadata": {},
     "output_type": "execute_result"
    },
    {
     "data": {
      "image/png": "[encoded data removed]",
      "text/plain": [
       "<Figure size 1400x400 with 1 Axes>"
      ]
     },
     "metadata": {},
     "output_type": "display_data"
    }
   ],
   "source": [
    "def substr(s, size=2):\n",
    "    if isinstance(s, str):\n",
    "        if len(s) < size:\n",
    "            return s\n",
    "        return s[:size]\n",
    "    return s\n",
    "\n",
    "\n",
    "ha = ha.copy()\n",
    "ha[\"ch12\"] = ha[\"hash\"].apply(substr)\n",
    "gr = ha.groupby(\"ch12\", as_index=False).sum().sort_values(\"ch12\")\n",
    "gr.plot(x=\"ch12\", y=[\"impressions\", \"volume\"], figsize=(14, 4))"
   ]
  },
  {
   "cell_type": "markdown",
   "metadata": {},
   "source": [
    "Dans ce cas précis, si le traitement appliqué aux données est d'un coût proportionnelle à la taille des données associées à chaque clé, cela signifie qu'une opération de type **reduce** aura un temps de traitement proportionnel au volume de données associée à la plus grande clé et non au nombre de machines puisque toutes les données d'une même clé sont envoyées sur la même machine."
   ]
  },
  {
   "cell_type": "code",
   "execution_count": null,
   "metadata": {},
   "outputs": [],
   "source": []
  }
 ],
 "metadata": {
  "kernelspec": {
   "display_name": "Python 3",
   "language": "python",
   "name": "python3"
  },
  "language_info": {
   "codemirror_mode": {
    "name": "ipython",
    "version": 3
   },
   "file_extension": ".py",
   "mimetype": "text/x-python",
   "name": "python",
   "nbconvert_exporter": "python",
   "pygments_lexer": "ipython3",
   "version": "3.10.12"
  }
 },
 "nbformat": 4,
 "nbformat_minor": 2
}
