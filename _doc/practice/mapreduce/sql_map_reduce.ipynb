{
 "cells": [
  {
   "cell_type": "markdown",
   "metadata": {},
   "source": [
    "# Mapper, Reducers customisés avec SQL\n",
    "\n",
    "Ce notebook propose l'utilisation de SQL avec [SQLite](https://sqlite.org/) pour manipuler les données depuis un notebook (avec le module [sqlite3](https://docs.python.org/3.6/library/sqlite3.html))."
   ]
  },
  {
   "cell_type": "code",
   "execution_count": 15,
   "metadata": {},
   "outputs": [],
   "source": [
    "%matplotlib inline\n",
    "import matplotlib.pyplot as plt\n",
    "from IPython.display import Image"
   ]
  },
  {
   "cell_type": "markdown",
   "metadata": {},
   "source": [
    "## Représentation"
   ]
  },
  {
   "cell_type": "markdown",
   "metadata": {},
   "source": [
    "Le module [pandas](https://pandas.pydata.org/) manipule des tables et c'est la façon la plus commune de représenter les données. Lorsque les données sont multidimensionnelles, on distingue les coordonnées des valeurs :"
   ]
  },
  {
   "cell_type": "code",
   "execution_count": 2,
   "metadata": {},
   "outputs": [
    {
     "data": {
      "image/png": "[encoded data removed]",
      "text/plain": [
       "<IPython.core.display.Image object>"
      ]
     },
     "execution_count": 2,
     "metadata": {},
     "output_type": "execute_result"
    }
   ],
   "source": [
    "Image(\"cube1.png\")"
   ]
  },
  {
   "cell_type": "markdown",
   "metadata": {
    "collapsed": true
   },
   "source": [
    "Dans cet exemple, il y a :\n",
    "    \n",
    "* 3 coordonnées : Age, Profession, Annéee\n",
    "* 2 valeurs : Espérance de vie, Population\n",
    "\n",
    "On peut représenter les donnés également comme ceci :"
   ]
  },
  {
   "cell_type": "code",
   "execution_count": 4,
   "metadata": {},
   "outputs": [
    {
     "data": {
      "image/png": "[encoded data removed]",
      "text/plain": [
       "<IPython.core.display.Image object>"
      ]
     },
     "execution_count": 4,
     "metadata": {},
     "output_type": "execute_result"
    }
   ],
   "source": [
    "Image(\"cube2.png\")"
   ]
  },
  {
   "cell_type": "markdown",
   "metadata": {},
   "source": [
    "C'est assez simple. Prenons un exemple : [Tables de mortalité par génération en Frances](https://www.insee.fr/fr/statistiques/6543678?sommaire=6543680) qu'on récupère à l'aide de la fonction [mortality_table](https://sdpython.github.io/doc/teachcompute/dev/index.html). C'est assez long (4-5 minutes) sur l'ensemble des données car elles doivent être prétraitées (voir la documentation de la fonction). Pour écouter, il faut utiliser le paramètre *stop_at*."
   ]
  },
  {
   "cell_type": "code",
   "execution_count": 3,
   "metadata": {},
   "outputs": [
    {
     "data": {
      "text/plain": [
       "'./mortality.txt'"
      ]
     },
     "execution_count": 3,
     "metadata": {},
     "output_type": "execute_result"
    }
   ],
   "source": [
    "from teachcompute.datasets import mortality_table\n",
    "\n",
    "filename = mortality_table(verbose=True)\n",
    "filename"
   ]
  },
  {
   "cell_type": "code",
   "execution_count": 6,
   "metadata": {},
   "outputs": [
    {
     "name": "stdout",
     "output_type": "stream",
     "text": [
      "size=120.594 Mb\n"
     ]
    }
   ],
   "source": [
    "import os\n",
    "\n",
    "size = os.stat(filename).st_size\n",
    "print(f\"size={size / 2**20:1.3f} Mb\")"
   ]
  },
  {
   "cell_type": "code",
   "execution_count": 8,
   "metadata": {},
   "outputs": [
    {
     "data": {
      "text/html": [
       "<div>\n",
       "<style scoped>\n",
       "    .dataframe tbody tr th:only-of-type {\n",
       "        vertical-align: middle;\n",
       "    }\n",
       "\n",
       "    .dataframe tbody tr th {\n",
       "        vertical-align: top;\n",
       "    }\n",
       "\n",
       "    .dataframe thead th {\n",
       "        text-align: right;\n",
       "    }\n",
       "</style>\n",
       "<table border=\"1\" class=\"dataframe\">\n",
       "  <thead>\n",
       "    <tr style=\"text-align: right;\">\n",
       "      <th></th>\n",
       "      <th>annee</th>\n",
       "      <th>valeur</th>\n",
       "      <th>age</th>\n",
       "      <th>age_num</th>\n",
       "      <th>indicateur</th>\n",
       "      <th>genre</th>\n",
       "      <th>pays</th>\n",
       "    </tr>\n",
       "  </thead>\n",
       "  <tbody>\n",
       "    <tr>\n",
       "      <th>0</th>\n",
       "      <td>2021</td>\n",
       "      <td>0.00015</td>\n",
       "      <td>Y01</td>\n",
       "      <td>1.0</td>\n",
       "      <td>DEATHRATE</td>\n",
       "      <td>F</td>\n",
       "      <td>AL</td>\n",
       "    </tr>\n",
       "    <tr>\n",
       "      <th>1</th>\n",
       "      <td>2020</td>\n",
       "      <td>0.00052</td>\n",
       "      <td>Y01</td>\n",
       "      <td>1.0</td>\n",
       "      <td>DEATHRATE</td>\n",
       "      <td>F</td>\n",
       "      <td>AL</td>\n",
       "    </tr>\n",
       "    <tr>\n",
       "      <th>2</th>\n",
       "      <td>2019</td>\n",
       "      <td>0.00021</td>\n",
       "      <td>Y01</td>\n",
       "      <td>1.0</td>\n",
       "      <td>DEATHRATE</td>\n",
       "      <td>F</td>\n",
       "      <td>AL</td>\n",
       "    </tr>\n",
       "    <tr>\n",
       "      <th>3</th>\n",
       "      <td>2018</td>\n",
       "      <td>0.00067</td>\n",
       "      <td>Y01</td>\n",
       "      <td>1.0</td>\n",
       "      <td>DEATHRATE</td>\n",
       "      <td>F</td>\n",
       "      <td>AL</td>\n",
       "    </tr>\n",
       "    <tr>\n",
       "      <th>4</th>\n",
       "      <td>2017</td>\n",
       "      <td>0.00046</td>\n",
       "      <td>Y01</td>\n",
       "      <td>1.0</td>\n",
       "      <td>DEATHRATE</td>\n",
       "      <td>F</td>\n",
       "      <td>AL</td>\n",
       "    </tr>\n",
       "  </tbody>\n",
       "</table>\n",
       "</div>"
      ],
      "text/plain": [
       "   annee   valeur  age  age_num indicateur genre pays\n",
       "0   2021  0.00015  Y01      1.0  DEATHRATE     F   AL\n",
       "1   2020  0.00052  Y01      1.0  DEATHRATE     F   AL\n",
       "2   2019  0.00021  Y01      1.0  DEATHRATE     F   AL\n",
       "3   2018  0.00067  Y01      1.0  DEATHRATE     F   AL\n",
       "4   2017  0.00046  Y01      1.0  DEATHRATE     F   AL"
      ]
     },
     "execution_count": 8,
     "metadata": {},
     "output_type": "execute_result"
    }
   ],
   "source": [
    "import pandas\n",
    "\n",
    "df = pandas.read_csv(filename, sep=\"\\t\", encoding=\"utf-8\", low_memory=False)\n",
    "df.head()"
   ]
  },
  {
   "cell_type": "markdown",
   "metadata": {},
   "source": [
    "Les indicateurs pour deux âges différents :"
   ]
  },
  {
   "cell_type": "code",
   "execution_count": 9,
   "metadata": {},
   "outputs": [
    {
     "data": {
      "text/html": [
       "<div>\n",
       "<style scoped>\n",
       "    .dataframe tbody tr th:only-of-type {\n",
       "        vertical-align: middle;\n",
       "    }\n",
       "\n",
       "    .dataframe tbody tr th {\n",
       "        vertical-align: top;\n",
       "    }\n",
       "\n",
       "    .dataframe thead th {\n",
       "        text-align: right;\n",
       "    }\n",
       "</style>\n",
       "<table border=\"1\" class=\"dataframe\">\n",
       "  <thead>\n",
       "    <tr style=\"text-align: right;\">\n",
       "      <th></th>\n",
       "      <th>annee</th>\n",
       "      <th>valeur</th>\n",
       "      <th>age</th>\n",
       "      <th>age_num</th>\n",
       "      <th>indicateur</th>\n",
       "      <th>genre</th>\n",
       "      <th>pays</th>\n",
       "    </tr>\n",
       "  </thead>\n",
       "  <tbody>\n",
       "    <tr>\n",
       "      <th>105650</th>\n",
       "      <td>2000</td>\n",
       "      <td>5.020000e-03</td>\n",
       "      <td>Y60</td>\n",
       "      <td>60.0</td>\n",
       "      <td>DEATHRATE</td>\n",
       "      <td>F</td>\n",
       "      <td>FR</td>\n",
       "    </tr>\n",
       "    <tr>\n",
       "      <th>107522</th>\n",
       "      <td>2000</td>\n",
       "      <td>4.860000e-03</td>\n",
       "      <td>Y61</td>\n",
       "      <td>61.0</td>\n",
       "      <td>DEATHRATE</td>\n",
       "      <td>F</td>\n",
       "      <td>FR</td>\n",
       "    </tr>\n",
       "    <tr>\n",
       "      <th>587296</th>\n",
       "      <td>2000</td>\n",
       "      <td>2.580000e+01</td>\n",
       "      <td>Y60</td>\n",
       "      <td>60.0</td>\n",
       "      <td>LIFEXP</td>\n",
       "      <td>F</td>\n",
       "      <td>FR</td>\n",
       "    </tr>\n",
       "    <tr>\n",
       "      <th>589157</th>\n",
       "      <td>2000</td>\n",
       "      <td>2.490000e+01</td>\n",
       "      <td>Y61</td>\n",
       "      <td>61.0</td>\n",
       "      <td>LIFEXP</td>\n",
       "      <td>F</td>\n",
       "      <td>FR</td>\n",
       "    </tr>\n",
       "    <tr>\n",
       "      <th>1087844</th>\n",
       "      <td>2000</td>\n",
       "      <td>5.010000e-03</td>\n",
       "      <td>Y60</td>\n",
       "      <td>60.0</td>\n",
       "      <td>PROBDEATH</td>\n",
       "      <td>F</td>\n",
       "      <td>FR</td>\n",
       "    </tr>\n",
       "    <tr>\n",
       "      <th>1089716</th>\n",
       "      <td>2000</td>\n",
       "      <td>4.850000e-03</td>\n",
       "      <td>Y61</td>\n",
       "      <td>61.0</td>\n",
       "      <td>PROBDEATH</td>\n",
       "      <td>F</td>\n",
       "      <td>FR</td>\n",
       "    </tr>\n",
       "    <tr>\n",
       "      <th>1569977</th>\n",
       "      <td>2000</td>\n",
       "      <td>9.949900e-01</td>\n",
       "      <td>Y60</td>\n",
       "      <td>60.0</td>\n",
       "      <td>PROBSURV</td>\n",
       "      <td>F</td>\n",
       "      <td>FR</td>\n",
       "    </tr>\n",
       "    <tr>\n",
       "      <th>1571849</th>\n",
       "      <td>2000</td>\n",
       "      <td>9.951500e-01</td>\n",
       "      <td>Y61</td>\n",
       "      <td>61.0</td>\n",
       "      <td>PROBSURV</td>\n",
       "      <td>F</td>\n",
       "      <td>FR</td>\n",
       "    </tr>\n",
       "    <tr>\n",
       "      <th>2051560</th>\n",
       "      <td>2000</td>\n",
       "      <td>9.307600e+04</td>\n",
       "      <td>Y60</td>\n",
       "      <td>60.0</td>\n",
       "      <td>PYLIVED</td>\n",
       "      <td>F</td>\n",
       "      <td>FR</td>\n",
       "    </tr>\n",
       "    <tr>\n",
       "      <th>2053421</th>\n",
       "      <td>2000</td>\n",
       "      <td>9.261800e+04</td>\n",
       "      <td>Y61</td>\n",
       "      <td>61.0</td>\n",
       "      <td>PYLIVED</td>\n",
       "      <td>F</td>\n",
       "      <td>FR</td>\n",
       "    </tr>\n",
       "    <tr>\n",
       "      <th>2531170</th>\n",
       "      <td>2000</td>\n",
       "      <td>9.331000e+04</td>\n",
       "      <td>Y60</td>\n",
       "      <td>60.0</td>\n",
       "      <td>SURVIVORS</td>\n",
       "      <td>F</td>\n",
       "      <td>FR</td>\n",
       "    </tr>\n",
       "    <tr>\n",
       "      <th>2533031</th>\n",
       "      <td>2000</td>\n",
       "      <td>9.284300e+04</td>\n",
       "      <td>Y61</td>\n",
       "      <td>61.0</td>\n",
       "      <td>SURVIVORS</td>\n",
       "      <td>F</td>\n",
       "      <td>FR</td>\n",
       "    </tr>\n",
       "    <tr>\n",
       "      <th>3010828</th>\n",
       "      <td>2000</td>\n",
       "      <td>2.405594e+06</td>\n",
       "      <td>Y60</td>\n",
       "      <td>60.0</td>\n",
       "      <td>TOTPYLIVED</td>\n",
       "      <td>F</td>\n",
       "      <td>FR</td>\n",
       "    </tr>\n",
       "    <tr>\n",
       "      <th>3012689</th>\n",
       "      <td>2000</td>\n",
       "      <td>2.312517e+06</td>\n",
       "      <td>Y61</td>\n",
       "      <td>61.0</td>\n",
       "      <td>TOTPYLIVED</td>\n",
       "      <td>F</td>\n",
       "      <td>FR</td>\n",
       "    </tr>\n",
       "  </tbody>\n",
       "</table>\n",
       "</div>"
      ],
      "text/plain": [
       "         annee        valeur  age  age_num  indicateur genre pays\n",
       "105650    2000  5.020000e-03  Y60     60.0   DEATHRATE     F   FR\n",
       "107522    2000  4.860000e-03  Y61     61.0   DEATHRATE     F   FR\n",
       "587296    2000  2.580000e+01  Y60     60.0      LIFEXP     F   FR\n",
       "589157    2000  2.490000e+01  Y61     61.0      LIFEXP     F   FR\n",
       "1087844   2000  5.010000e-03  Y60     60.0   PROBDEATH     F   FR\n",
       "1089716   2000  4.850000e-03  Y61     61.0   PROBDEATH     F   FR\n",
       "1569977   2000  9.949900e-01  Y60     60.0    PROBSURV     F   FR\n",
       "1571849   2000  9.951500e-01  Y61     61.0    PROBSURV     F   FR\n",
       "2051560   2000  9.307600e+04  Y60     60.0     PYLIVED     F   FR\n",
       "2053421   2000  9.261800e+04  Y61     61.0     PYLIVED     F   FR\n",
       "2531170   2000  9.331000e+04  Y60     60.0   SURVIVORS     F   FR\n",
       "2533031   2000  9.284300e+04  Y61     61.0   SURVIVORS     F   FR\n",
       "3010828   2000  2.405594e+06  Y60     60.0  TOTPYLIVED     F   FR\n",
       "3012689   2000  2.312517e+06  Y61     61.0  TOTPYLIVED     F   FR"
      ]
     },
     "execution_count": 9,
     "metadata": {},
     "output_type": "execute_result"
    }
   ],
   "source": [
    "df[\n",
    "    ((df.age == \"Y60\") | (df.age == \"Y61\"))\n",
    "    & (df.annee == 2000)\n",
    "    & (df.pays == \"FR\")\n",
    "    & (df.genre == \"F\")\n",
    "]"
   ]
  },
  {
   "cell_type": "markdown",
   "metadata": {},
   "source": [
    "## Données trop grosses pour tenir en mémoire : SQLite\n",
    "\n",
    "On charge une grosse base de données (assez petite pour que la séance ne soit pas trop longue)."
   ]
  },
  {
   "cell_type": "code",
   "execution_count": 10,
   "metadata": {},
   "outputs": [
    {
     "data": {
      "text/plain": [
       "(3385344, 7)"
      ]
     },
     "execution_count": 10,
     "metadata": {},
     "output_type": "execute_result"
    }
   ],
   "source": [
    "df.shape"
   ]
  },
  {
   "cell_type": "markdown",
   "metadata": {},
   "source": [
    "Les données sont trop grosses pour tenir dans une feuille Excel et les consulter il n'y a pas d'autres moyens que d'en regarder des extraits. Que passe-t-il quand les données sont encore plus grosses et qu'elles ne tiennent pas en mémoire ? Quelques solutions :\n",
    "\n",
    "* augmenter la mémoire de l'ordinateur, avec 20 Go, on peut faire beaucoup de choses,\n",
    "* stocker les données dans un serveur SQL,\n",
    "* stocker les données sur un système distribué (cloud, Hadoop, ...)\n",
    "\n",
    "La seconde option n'est pas toujours simple, il faut installer un serveur SQL. Pour aller plus vite, on peut simplement utiliser [SQLite](https://www.sqlite.org/) qui est une façon de faire du SQL sans serveur (cela prend quelques minutes). On utilise la méthode [to_sql](https://pandas.pydata.org/pandas-docs/stable/generated/pandas.DataFrame.to_sql.html)."
   ]
  },
  {
   "cell_type": "code",
   "execution_count": 11,
   "metadata": {},
   "outputs": [],
   "source": [
    "import sqlite3\n",
    "from pandas.io import sql\n",
    "\n",
    "cnx = sqlite3.connect(\"mortalite.db3\")\n",
    "try:\n",
    "    df.to_sql(name=\"mortalite\", con=cnx)\n",
    "except ValueError as e:\n",
    "    if \"Table 'mortalite' already exists\" not in str(e):\n",
    "        # seulement si l'erreur ne vient pas du fait que cela\n",
    "        # a déjà été fait\n",
    "        raise e\n",
    "# on peut ajouter d'autres dataframe à la table comme si elle était créée par morceau\n",
    "# voir le paramètre if_exists de la fonction to_sql"
   ]
  },
  {
   "cell_type": "markdown",
   "metadata": {},
   "source": [
    "On peut maintenant récupérer un morceau avec la fonction [read_sql](https://pandas.pydata.org/pandas-docs/stable/generated/pandas.read_sql.html?highlight=read_sql#pandas.read_sql)."
   ]
  },
  {
   "cell_type": "code",
   "execution_count": 12,
   "metadata": {},
   "outputs": [
    {
     "data": {
      "text/html": [
       "<div>\n",
       "<style scoped>\n",
       "    .dataframe tbody tr th:only-of-type {\n",
       "        vertical-align: middle;\n",
       "    }\n",
       "\n",
       "    .dataframe tbody tr th {\n",
       "        vertical-align: top;\n",
       "    }\n",
       "\n",
       "    .dataframe thead th {\n",
       "        text-align: right;\n",
       "    }\n",
       "</style>\n",
       "<table border=\"1\" class=\"dataframe\">\n",
       "  <thead>\n",
       "    <tr style=\"text-align: right;\">\n",
       "      <th></th>\n",
       "      <th>index</th>\n",
       "      <th>annee</th>\n",
       "      <th>valeur</th>\n",
       "      <th>age</th>\n",
       "      <th>age_num</th>\n",
       "      <th>indicateur</th>\n",
       "      <th>genre</th>\n",
       "      <th>pays</th>\n",
       "    </tr>\n",
       "  </thead>\n",
       "  <tbody>\n",
       "    <tr>\n",
       "      <th>0</th>\n",
       "      <td>84185</td>\n",
       "      <td>2021</td>\n",
       "      <td>0.00234</td>\n",
       "      <td>Y50</td>\n",
       "      <td>50.0</td>\n",
       "      <td>DEATHRATE</td>\n",
       "      <td>F</td>\n",
       "      <td>AL</td>\n",
       "    </tr>\n",
       "    <tr>\n",
       "      <th>1</th>\n",
       "      <td>84186</td>\n",
       "      <td>2020</td>\n",
       "      <td>0.00237</td>\n",
       "      <td>Y50</td>\n",
       "      <td>50.0</td>\n",
       "      <td>DEATHRATE</td>\n",
       "      <td>F</td>\n",
       "      <td>AL</td>\n",
       "    </tr>\n",
       "    <tr>\n",
       "      <th>2</th>\n",
       "      <td>84187</td>\n",
       "      <td>2019</td>\n",
       "      <td>0.00188</td>\n",
       "      <td>Y50</td>\n",
       "      <td>50.0</td>\n",
       "      <td>DEATHRATE</td>\n",
       "      <td>F</td>\n",
       "      <td>AL</td>\n",
       "    </tr>\n",
       "    <tr>\n",
       "      <th>3</th>\n",
       "      <td>84188</td>\n",
       "      <td>2018</td>\n",
       "      <td>0.00195</td>\n",
       "      <td>Y50</td>\n",
       "      <td>50.0</td>\n",
       "      <td>DEATHRATE</td>\n",
       "      <td>F</td>\n",
       "      <td>AL</td>\n",
       "    </tr>\n",
       "    <tr>\n",
       "      <th>4</th>\n",
       "      <td>84189</td>\n",
       "      <td>2017</td>\n",
       "      <td>0.00170</td>\n",
       "      <td>Y50</td>\n",
       "      <td>50.0</td>\n",
       "      <td>DEATHRATE</td>\n",
       "      <td>F</td>\n",
       "      <td>AL</td>\n",
       "    </tr>\n",
       "  </tbody>\n",
       "</table>\n",
       "</div>"
      ],
      "text/plain": [
       "   index  annee   valeur  age  age_num indicateur genre pays\n",
       "0  84185   2021  0.00234  Y50     50.0  DEATHRATE     F   AL\n",
       "1  84186   2020  0.00237  Y50     50.0  DEATHRATE     F   AL\n",
       "2  84187   2019  0.00188  Y50     50.0  DEATHRATE     F   AL\n",
       "3  84188   2018  0.00195  Y50     50.0  DEATHRATE     F   AL\n",
       "4  84189   2017  0.00170  Y50     50.0  DEATHRATE     F   AL"
      ]
     },
     "execution_count": 12,
     "metadata": {},
     "output_type": "execute_result"
    }
   ],
   "source": [
    "import pandas\n",
    "\n",
    "example = pandas.read_sql(\"SELECT * FROM mortalite WHERE age_num==50 LIMIT 5\", cnx)\n",
    "example"
   ]
  },
  {
   "cell_type": "markdown",
   "metadata": {},
   "source": [
    "L'ensemble des données restent sur le disque, seul le résultat de la requête est chargé en mémoire. Si on ne peut pas faire tenir les données en mémoire, il faut soit en obtenir une vue partielle (un échantillon aléatoire, un vue filtrée), soit une vue agrégrée. Pour finir, il faut fermer la connexion pour laisser d'autres applications ou notebook modifier la base ou tout simplement supprimer le fichier."
   ]
  },
  {
   "cell_type": "code",
   "execution_count": 13,
   "metadata": {},
   "outputs": [],
   "source": [
    "cnx.close()"
   ]
  },
  {
   "cell_type": "markdown",
   "metadata": {},
   "source": [
    "Sous Windows, on peut consulter la base avec le logiciel [SQLiteSpy](https://www.yunqa.de/delphi/apps/sqlitespy/index)."
   ]
  },
  {
   "cell_type": "code",
   "execution_count": 16,
   "metadata": {},
   "outputs": [
    {
     "data": {
      "image/png": "[encoded data removed]",
      "text/plain": [
       "<IPython.core.display.Image object>"
      ]
     },
     "execution_count": 16,
     "metadata": {},
     "output_type": "execute_result"
    }
   ],
   "source": [
    "Image(\"sqlite.png\")"
   ]
  },
  {
   "cell_type": "markdown",
   "metadata": {},
   "source": [
    "Sous Linux ou Max, on peut utiliser une extension Firefox [SQLite Manager](https://addons.mozilla.org/en-US/firefox/addon/sqlite-manager-webext/)."
   ]
  },
  {
   "cell_type": "markdown",
   "metadata": {
    "collapsed": true
   },
   "source": [
    "## Cas 1 : filtrer pour créer un échantillon aléatoire\n",
    "\n",
    "Si on ne peut pas faire tenir les données en mémoire, on peut soit regarder les premières lignes soit prendre un échantillon aléatoire. Deux options :\n",
    "\n",
    "* [Dataframe.sample](https://pandas.pydata.org/pandas-docs/stable/generated/pandas.DataFrame.sample.html)\n",
    "* [create_function](https://docs.python.org/3.4/library/sqlite3.html#sqlite3.Connection.create_function)\n",
    "\n",
    "La première fonction est simple :"
   ]
  },
  {
   "cell_type": "code",
   "execution_count": 17,
   "metadata": {},
   "outputs": [
    {
     "data": {
      "text/plain": [
       "((338534, 7), (3385344, 7))"
      ]
     },
     "execution_count": 17,
     "metadata": {},
     "output_type": "execute_result"
    }
   ],
   "source": [
    "sample = df.sample(frac=0.1)\n",
    "sample.shape, df.shape"
   ]
  },
  {
   "cell_type": "markdown",
   "metadata": {},
   "source": [
    "Je ne sais pas si cela peut être réalisé sans charger les données en mémoire. Si les données pèsent 20 Go, cette méthode n'aboutira pas. Pourtant, on veut juste un échantillon pour commencer à regarder les données. On utilise la seconde option avec [create_function](https://docs.python.org/3.4/library/sqlite3.html#sqlite3.Connection.create_function) et la fonction suivante :"
   ]
  },
  {
   "cell_type": "code",
   "execution_count": 18,
   "metadata": {},
   "outputs": [],
   "source": [
    "import random  # loi uniforme\n",
    "\n",
    "\n",
    "def echantillon(proportion):\n",
    "    return 1 if random.random() < proportion else 0"
   ]
  },
  {
   "cell_type": "code",
   "execution_count": 19,
   "metadata": {},
   "outputs": [],
   "source": [
    "import sqlite3\n",
    "from pandas.io import sql\n",
    "\n",
    "cnx = sqlite3.connect(\"mortalite.db3\")"
   ]
  },
  {
   "cell_type": "markdown",
   "metadata": {},
   "source": [
    "On déclare la fonction à la base de données."
   ]
  },
  {
   "cell_type": "code",
   "execution_count": 20,
   "metadata": {},
   "outputs": [],
   "source": [
    "cnx.create_function(\"echantillon\", 1, echantillon)"
   ]
  },
  {
   "cell_type": "markdown",
   "metadata": {},
   "source": [
    "On veut récupérer environ 1% de la table ? On écrit d'abord le filtre."
   ]
  },
  {
   "cell_type": "code",
   "execution_count": 21,
   "metadata": {},
   "outputs": [
    {
     "data": {
      "text/plain": [
       "(34027, 8)"
      ]
     },
     "execution_count": 21,
     "metadata": {},
     "output_type": "execute_result"
    }
   ],
   "source": [
    "sample = pandas.read_sql(\"SELECT * FROM mortalite WHERE echantillon(0.01)\", cnx)\n",
    "sample.shape"
   ]
  },
  {
   "cell_type": "code",
   "execution_count": 22,
   "metadata": {},
   "outputs": [
    {
     "data": {
      "text/html": [
       "<div>\n",
       "<style scoped>\n",
       "    .dataframe tbody tr th:only-of-type {\n",
       "        vertical-align: middle;\n",
       "    }\n",
       "\n",
       "    .dataframe tbody tr th {\n",
       "        vertical-align: top;\n",
       "    }\n",
       "\n",
       "    .dataframe thead th {\n",
       "        text-align: right;\n",
       "    }\n",
       "</style>\n",
       "<table border=\"1\" class=\"dataframe\">\n",
       "  <thead>\n",
       "    <tr style=\"text-align: right;\">\n",
       "      <th></th>\n",
       "      <th>index</th>\n",
       "      <th>annee</th>\n",
       "      <th>valeur</th>\n",
       "      <th>age</th>\n",
       "      <th>age_num</th>\n",
       "      <th>indicateur</th>\n",
       "      <th>genre</th>\n",
       "      <th>pays</th>\n",
       "    </tr>\n",
       "  </thead>\n",
       "  <tbody>\n",
       "    <tr>\n",
       "      <th>0</th>\n",
       "      <td>82</td>\n",
       "      <td>2021</td>\n",
       "      <td>0.00026</td>\n",
       "      <td>Y01</td>\n",
       "      <td>1.0</td>\n",
       "      <td>DEATHRATE</td>\n",
       "      <td>F</td>\n",
       "      <td>BE</td>\n",
       "    </tr>\n",
       "    <tr>\n",
       "      <th>1</th>\n",
       "      <td>147</td>\n",
       "      <td>2018</td>\n",
       "      <td>0.00073</td>\n",
       "      <td>Y01</td>\n",
       "      <td>1.0</td>\n",
       "      <td>DEATHRATE</td>\n",
       "      <td>F</td>\n",
       "      <td>BG</td>\n",
       "    </tr>\n",
       "    <tr>\n",
       "      <th>2</th>\n",
       "      <td>223</td>\n",
       "      <td>2012</td>\n",
       "      <td>0.00015</td>\n",
       "      <td>Y01</td>\n",
       "      <td>1.0</td>\n",
       "      <td>DEATHRATE</td>\n",
       "      <td>F</td>\n",
       "      <td>CH</td>\n",
       "    </tr>\n",
       "    <tr>\n",
       "      <th>3</th>\n",
       "      <td>294</td>\n",
       "      <td>2003</td>\n",
       "      <td>0.00000</td>\n",
       "      <td>Y01</td>\n",
       "      <td>1.0</td>\n",
       "      <td>DEATHRATE</td>\n",
       "      <td>F</td>\n",
       "      <td>CY</td>\n",
       "    </tr>\n",
       "    <tr>\n",
       "      <th>4</th>\n",
       "      <td>342</td>\n",
       "      <td>1984</td>\n",
       "      <td>0.00065</td>\n",
       "      <td>Y01</td>\n",
       "      <td>1.0</td>\n",
       "      <td>DEATHRATE</td>\n",
       "      <td>F</td>\n",
       "      <td>CZ</td>\n",
       "    </tr>\n",
       "  </tbody>\n",
       "</table>\n",
       "</div>"
      ],
      "text/plain": [
       "   index  annee   valeur  age  age_num indicateur genre pays\n",
       "0     82   2021  0.00026  Y01      1.0  DEATHRATE     F   BE\n",
       "1    147   2018  0.00073  Y01      1.0  DEATHRATE     F   BG\n",
       "2    223   2012  0.00015  Y01      1.0  DEATHRATE     F   CH\n",
       "3    294   2003  0.00000  Y01      1.0  DEATHRATE     F   CY\n",
       "4    342   1984  0.00065  Y01      1.0  DEATHRATE     F   CZ"
      ]
     },
     "execution_count": 22,
     "metadata": {},
     "output_type": "execute_result"
    }
   ],
   "source": [
    "sample.head()"
   ]
  },
  {
   "cell_type": "markdown",
   "metadata": {},
   "source": [
    "On ferme la connexion."
   ]
  },
  {
   "cell_type": "code",
   "execution_count": 23,
   "metadata": {},
   "outputs": [],
   "source": [
    "cnx.close()"
   ]
  },
  {
   "cell_type": "markdown",
   "metadata": {
    "collapsed": true
   },
   "source": [
    "## Pseudo Map/Reduce avec SQLite"
   ]
  },
  {
   "cell_type": "markdown",
   "metadata": {},
   "source": [
    "La liste des [mots-clés du langage SQL utilisés par SQLite](https://www.sqlite.org/keyword_index.html) n'est pas aussi riche que d'autres solutions de serveurs SQL. La médiane ne semble pas en faire partie. Cependant, pour une année, un genre, un âge donné, on voudrait calculer la médiane de l'espérance de vie sur l'ensembles des pays."
   ]
  },
  {
   "cell_type": "code",
   "execution_count": 24,
   "metadata": {},
   "outputs": [],
   "source": [
    "import sqlite3, pandas\n",
    "from pandas.io import sql\n",
    "\n",
    "cnx = sqlite3.connect(\"mortalite.db3\")"
   ]
  },
  {
   "cell_type": "code",
   "execution_count": 25,
   "metadata": {},
   "outputs": [
    {
     "data": {
      "text/html": [
       "<div>\n",
       "<style scoped>\n",
       "    .dataframe tbody tr th:only-of-type {\n",
       "        vertical-align: middle;\n",
       "    }\n",
       "\n",
       "    .dataframe tbody tr th {\n",
       "        vertical-align: top;\n",
       "    }\n",
       "\n",
       "    .dataframe thead th {\n",
       "        text-align: right;\n",
       "    }\n",
       "</style>\n",
       "<table border=\"1\" class=\"dataframe\">\n",
       "  <thead>\n",
       "    <tr style=\"text-align: right;\">\n",
       "      <th></th>\n",
       "      <th>pays</th>\n",
       "      <th>COUNT(*)</th>\n",
       "    </tr>\n",
       "  </thead>\n",
       "  <tbody>\n",
       "    <tr>\n",
       "      <th>0</th>\n",
       "      <td>AL</td>\n",
       "      <td>16758</td>\n",
       "    </tr>\n",
       "    <tr>\n",
       "      <th>1</th>\n",
       "      <td>AM</td>\n",
       "      <td>16254</td>\n",
       "    </tr>\n",
       "    <tr>\n",
       "      <th>2</th>\n",
       "      <td>AT</td>\n",
       "      <td>94428</td>\n",
       "    </tr>\n",
       "    <tr>\n",
       "      <th>3</th>\n",
       "      <td>AZ</td>\n",
       "      <td>21672</td>\n",
       "    </tr>\n",
       "    <tr>\n",
       "      <th>4</th>\n",
       "      <td>BE</td>\n",
       "      <td>112488</td>\n",
       "    </tr>\n",
       "  </tbody>\n",
       "</table>\n",
       "</div>"
      ],
      "text/plain": [
       "  pays  COUNT(*)\n",
       "0   AL     16758\n",
       "1   AM     16254\n",
       "2   AT     94428\n",
       "3   AZ     21672\n",
       "4   BE    112488"
      ]
     },
     "execution_count": 25,
     "metadata": {},
     "output_type": "execute_result"
    }
   ],
   "source": [
    "pays = pandas.read_sql(\"SELECT pays, COUNT(*) FROM mortalite GROUP BY pays\", cnx)\n",
    "pays.head()"
   ]
  },
  {
   "cell_type": "markdown",
   "metadata": {},
   "source": [
    "Il n'y a pas le même nombre de données selon les pays, il est probable que le nombre de pays pour lesquels il existe des données varie selon les âges et les années."
   ]
  },
  {
   "cell_type": "code",
   "execution_count": 26,
   "metadata": {},
   "outputs": [],
   "source": [
    "query = \"\"\"SELECT nb_country, COUNT(*) AS nb_rows FROM (\n",
    "                SELECT annee,age,age_num, count(*) AS nb_country FROM mortalite \n",
    "                WHERE indicateur==\"LIFEXP\" AND genre==\"F\"\n",
    "                GROUP BY annee,age,age_num\n",
    "            ) GROUP BY nb_country\"\"\"\n",
    "df = pandas.read_sql(query, cnx)"
   ]
  },
  {
   "cell_type": "code",
   "execution_count": 27,
   "metadata": {},
   "outputs": [
    {
     "data": {
      "text/html": [
       "<div>\n",
       "<style scoped>\n",
       "    .dataframe tbody tr th:only-of-type {\n",
       "        vertical-align: middle;\n",
       "    }\n",
       "\n",
       "    .dataframe tbody tr th {\n",
       "        vertical-align: top;\n",
       "    }\n",
       "\n",
       "    .dataframe thead th {\n",
       "        text-align: right;\n",
       "    }\n",
       "</style>\n",
       "<table border=\"1\" class=\"dataframe\">\n",
       "  <thead>\n",
       "    <tr style=\"text-align: right;\">\n",
       "      <th></th>\n",
       "      <th>nb_country</th>\n",
       "      <th>nb_rows</th>\n",
       "    </tr>\n",
       "  </thead>\n",
       "  <tbody>\n",
       "    <tr>\n",
       "      <th>24</th>\n",
       "      <td>50</td>\n",
       "      <td>860</td>\n",
       "    </tr>\n",
       "    <tr>\n",
       "      <th>23</th>\n",
       "      <td>49</td>\n",
       "      <td>172</td>\n",
       "    </tr>\n",
       "  </tbody>\n",
       "</table>\n",
       "</div>"
      ],
      "text/plain": [
       "    nb_country  nb_rows\n",
       "24          50      860\n",
       "23          49      172"
      ]
     },
     "execution_count": 27,
     "metadata": {},
     "output_type": "execute_result"
    }
   ],
   "source": [
    "df.sort_values(\"nb_country\", ascending=False).head(n=2)"
   ]
  },
  {
   "cell_type": "code",
   "execution_count": 28,
   "metadata": {},
   "outputs": [
    {
     "data": {
      "image/png": "[encoded data removed]",
      "text/plain": [
       "<Figure size 640x480 with 1 Axes>"
      ]
     },
     "metadata": {},
     "output_type": "display_data"
    }
   ],
   "source": [
    "ax = df.plot(x=\"nb_country\", y=\"nb_rows\")\n",
    "ax.set_title(\"Nombre de données par pays\");"
   ]
  },
  {
   "cell_type": "markdown",
   "metadata": {},
   "source": [
    "Soit un nombre inconstant de pays. Le fait qu'on est 100 pays suggère qu'on ait une erreur également."
   ]
  },
  {
   "cell_type": "code",
   "execution_count": 29,
   "metadata": {},
   "outputs": [],
   "source": [
    "query = \"\"\"SELECT annee,age,age_num, count(*) AS nb_country FROM mortalite \n",
    "                WHERE indicateur==\"LIFEXP\" AND genre==\"F\"\n",
    "                GROUP BY annee,age,age_num\n",
    "                HAVING nb_country >= 100\"\"\"\n",
    "df = pandas.read_sql(query, cnx)"
   ]
  },
  {
   "cell_type": "code",
   "execution_count": 30,
   "metadata": {},
   "outputs": [
    {
     "data": {
      "text/html": [
       "<div>\n",
       "<style scoped>\n",
       "    .dataframe tbody tr th:only-of-type {\n",
       "        vertical-align: middle;\n",
       "    }\n",
       "\n",
       "    .dataframe tbody tr th {\n",
       "        vertical-align: top;\n",
       "    }\n",
       "\n",
       "    .dataframe thead th {\n",
       "        text-align: right;\n",
       "    }\n",
       "</style>\n",
       "<table border=\"1\" class=\"dataframe\">\n",
       "  <thead>\n",
       "    <tr style=\"text-align: right;\">\n",
       "      <th></th>\n",
       "      <th>annee</th>\n",
       "      <th>age</th>\n",
       "      <th>age_num</th>\n",
       "      <th>nb_country</th>\n",
       "    </tr>\n",
       "  </thead>\n",
       "  <tbody>\n",
       "  </tbody>\n",
       "</table>\n",
       "</div>"
      ],
      "text/plain": [
       "Empty DataFrame\n",
       "Columns: [annee, age, age_num, nb_country]\n",
       "Index: []"
      ]
     },
     "execution_count": 30,
     "metadata": {},
     "output_type": "execute_result"
    }
   ],
   "source": [
    "df.head()"
   ]
  },
  {
   "cell_type": "markdown",
   "metadata": {},
   "source": [
    "Ce sont des valeurs manquantes. Le problème pour calculer la médiane pour chaque observation est qu'il faut d'abord regrouper les lignes de la table par indicateur puis choisir la médiane dans chaque de ces petits groupes. On s'inspire pour cela de la logique Map/Reduce et de la fonction [create_aggregate](https://docs.python.org/3.4/library/sqlite3.html#sqlite3.Connection.create_aggregate)."
   ]
  },
  {
   "cell_type": "markdown",
   "metadata": {},
   "source": [
    "## Cas 2 : reducer customisé avec SQL\n",
    "\n",
    "Le reducer se présente toujours sous la forme suivante :"
   ]
  },
  {
   "cell_type": "code",
   "execution_count": 31,
   "metadata": {},
   "outputs": [],
   "source": [
    "class ReducerMediane:\n",
    "    def __init__(self):\n",
    "        # ???\n",
    "        pass\n",
    "\n",
    "    def step(self, value):\n",
    "        # ???\n",
    "        #\n",
    "        pass\n",
    "\n",
    "    def finalize(self):\n",
    "        # ???\n",
    "        # return ... //2 ]\n",
    "        pass"
   ]
  },
  {
   "cell_type": "markdown",
   "metadata": {},
   "source": [
    "Qu'on renseigne de la sorte :"
   ]
  },
  {
   "cell_type": "code",
   "execution_count": 32,
   "metadata": {},
   "outputs": [],
   "source": [
    "class ReducerMediane:\n",
    "    def __init__(self):\n",
    "        self.indicateur = []\n",
    "\n",
    "    def step(self, value):\n",
    "        if value >= 0:\n",
    "            self.indicateur.append(value)\n",
    "\n",
    "    def finalize(self):\n",
    "        self.indicateur.sort()\n",
    "        return self.indicateur[len(self.indicateur) // 2]"
   ]
  },
  {
   "cell_type": "markdown",
   "metadata": {},
   "source": [
    "On le déclare ensuite à *sqllite3*."
   ]
  },
  {
   "cell_type": "code",
   "execution_count": 33,
   "metadata": {},
   "outputs": [],
   "source": [
    "cnx.create_aggregate(\"ReducerMediane\", 1, ReducerMediane)"
   ]
  },
  {
   "cell_type": "code",
   "execution_count": 34,
   "metadata": {},
   "outputs": [],
   "source": [
    "query = \"\"\"SELECT annee,age,age_num, ReducerMediane(valeur) AS mediane FROM mortalite \n",
    "                WHERE indicateur==\"LIFEXP\" AND genre==\"F\"\n",
    "                GROUP BY annee,age,age_num\"\"\"\n",
    "df = pandas.read_sql(query, cnx)"
   ]
  },
  {
   "cell_type": "code",
   "execution_count": 35,
   "metadata": {},
   "outputs": [
    {
     "data": {
      "text/html": [
       "<div>\n",
       "<style scoped>\n",
       "    .dataframe tbody tr th:only-of-type {\n",
       "        vertical-align: middle;\n",
       "    }\n",
       "\n",
       "    .dataframe tbody tr th {\n",
       "        vertical-align: top;\n",
       "    }\n",
       "\n",
       "    .dataframe thead th {\n",
       "        text-align: right;\n",
       "    }\n",
       "</style>\n",
       "<table border=\"1\" class=\"dataframe\">\n",
       "  <thead>\n",
       "    <tr style=\"text-align: right;\">\n",
       "      <th></th>\n",
       "      <th>annee</th>\n",
       "      <th>age</th>\n",
       "      <th>age_num</th>\n",
       "      <th>mediane</th>\n",
       "    </tr>\n",
       "  </thead>\n",
       "  <tbody>\n",
       "    <tr>\n",
       "      <th>0</th>\n",
       "      <td>1960</td>\n",
       "      <td>Y01</td>\n",
       "      <td>1.0</td>\n",
       "      <td>73.7</td>\n",
       "    </tr>\n",
       "    <tr>\n",
       "      <th>1</th>\n",
       "      <td>1960</td>\n",
       "      <td>Y02</td>\n",
       "      <td>2.0</td>\n",
       "      <td>72.8</td>\n",
       "    </tr>\n",
       "    <tr>\n",
       "      <th>2</th>\n",
       "      <td>1960</td>\n",
       "      <td>Y03</td>\n",
       "      <td>3.0</td>\n",
       "      <td>71.9</td>\n",
       "    </tr>\n",
       "    <tr>\n",
       "      <th>3</th>\n",
       "      <td>1960</td>\n",
       "      <td>Y04</td>\n",
       "      <td>4.0</td>\n",
       "      <td>71.0</td>\n",
       "    </tr>\n",
       "    <tr>\n",
       "      <th>4</th>\n",
       "      <td>1960</td>\n",
       "      <td>Y05</td>\n",
       "      <td>5.0</td>\n",
       "      <td>70.0</td>\n",
       "    </tr>\n",
       "  </tbody>\n",
       "</table>\n",
       "</div>"
      ],
      "text/plain": [
       "   annee  age  age_num  mediane\n",
       "0   1960  Y01      1.0     73.7\n",
       "1   1960  Y02      2.0     72.8\n",
       "2   1960  Y03      3.0     71.9\n",
       "3   1960  Y04      4.0     71.0\n",
       "4   1960  Y05      5.0     70.0"
      ]
     },
     "execution_count": 35,
     "metadata": {},
     "output_type": "execute_result"
    }
   ],
   "source": [
    "df.head()"
   ]
  },
  {
   "cell_type": "markdown",
   "metadata": {},
   "source": [
    "Un reducer à deux entrées même si cela n'a pas beaucoup de sens ici :"
   ]
  },
  {
   "cell_type": "code",
   "execution_count": 36,
   "metadata": {},
   "outputs": [],
   "source": [
    "class ReducerMediane2:\n",
    "    def __init__(self):\n",
    "        self.indicateur = []\n",
    "\n",
    "    def step(self, value, value2):\n",
    "        if value >= 0:\n",
    "            self.indicateur.append(value)\n",
    "        if value2 >= 0:\n",
    "            self.indicateur.append(value2)\n",
    "\n",
    "    def finalize(self):\n",
    "        self.indicateur.sort()\n",
    "        return self.indicateur[len(self.indicateur) // 2]\n",
    "\n",
    "\n",
    "cnx.create_aggregate(\"ReducerMediane2\", 2, ReducerMediane2)"
   ]
  },
  {
   "cell_type": "code",
   "execution_count": 37,
   "metadata": {},
   "outputs": [
    {
     "data": {
      "text/html": [
       "<div>\n",
       "<style scoped>\n",
       "    .dataframe tbody tr th:only-of-type {\n",
       "        vertical-align: middle;\n",
       "    }\n",
       "\n",
       "    .dataframe tbody tr th {\n",
       "        vertical-align: top;\n",
       "    }\n",
       "\n",
       "    .dataframe thead th {\n",
       "        text-align: right;\n",
       "    }\n",
       "</style>\n",
       "<table border=\"1\" class=\"dataframe\">\n",
       "  <thead>\n",
       "    <tr style=\"text-align: right;\">\n",
       "      <th></th>\n",
       "      <th>annee</th>\n",
       "      <th>age</th>\n",
       "      <th>age_num</th>\n",
       "      <th>mediane2</th>\n",
       "    </tr>\n",
       "  </thead>\n",
       "  <tbody>\n",
       "    <tr>\n",
       "      <th>0</th>\n",
       "      <td>1960</td>\n",
       "      <td>Y01</td>\n",
       "      <td>1.0</td>\n",
       "      <td>74.0</td>\n",
       "    </tr>\n",
       "    <tr>\n",
       "      <th>1</th>\n",
       "      <td>1960</td>\n",
       "      <td>Y02</td>\n",
       "      <td>2.0</td>\n",
       "      <td>73.2</td>\n",
       "    </tr>\n",
       "    <tr>\n",
       "      <th>2</th>\n",
       "      <td>1960</td>\n",
       "      <td>Y03</td>\n",
       "      <td>3.0</td>\n",
       "      <td>72.3</td>\n",
       "    </tr>\n",
       "    <tr>\n",
       "      <th>3</th>\n",
       "      <td>1960</td>\n",
       "      <td>Y04</td>\n",
       "      <td>4.0</td>\n",
       "      <td>71.3</td>\n",
       "    </tr>\n",
       "    <tr>\n",
       "      <th>4</th>\n",
       "      <td>1960</td>\n",
       "      <td>Y05</td>\n",
       "      <td>5.0</td>\n",
       "      <td>70.4</td>\n",
       "    </tr>\n",
       "  </tbody>\n",
       "</table>\n",
       "</div>"
      ],
      "text/plain": [
       "   annee  age  age_num  mediane2\n",
       "0   1960  Y01      1.0      74.0\n",
       "1   1960  Y02      2.0      73.2\n",
       "2   1960  Y03      3.0      72.3\n",
       "3   1960  Y04      4.0      71.3\n",
       "4   1960  Y05      5.0      70.4"
      ]
     },
     "execution_count": 37,
     "metadata": {},
     "output_type": "execute_result"
    }
   ],
   "source": [
    "query = \"\"\"SELECT annee,age,age_num, ReducerMediane2(valeur, valeur+1) AS mediane2 FROM mortalite \n",
    "                WHERE indicateur==\"LIFEXP\" AND genre==\"F\"\n",
    "                GROUP BY annee,age,age_num\"\"\"\n",
    "df = pandas.read_sql(query, cnx)\n",
    "df.head()"
   ]
  },
  {
   "cell_type": "markdown",
   "metadata": {},
   "source": [
    "Il n'est apparemment pas possible de retourner deux résultats mais on peut utiliser une ruse qui consise à les concaténer dans une chaîne de caracères."
   ]
  },
  {
   "cell_type": "code",
   "execution_count": 38,
   "metadata": {},
   "outputs": [],
   "source": [
    "class ReducerQuantile:\n",
    "    def __init__(self):\n",
    "        self.indicateur = []\n",
    "\n",
    "    def step(self, value):\n",
    "        if value >= 0:\n",
    "            self.indicateur.append(value)\n",
    "\n",
    "    def finalize(self):\n",
    "        self.indicateur.sort()\n",
    "        q1 = self.indicateur[len(self.indicateur) // 4]\n",
    "        q2 = self.indicateur[3 * len(self.indicateur) // 4]\n",
    "        n = len(self.indicateur)\n",
    "        return \"%f;%f;%s\" % (q1, q2, n)\n",
    "\n",
    "\n",
    "cnx.create_aggregate(\"ReducerQuantile\", 1, ReducerQuantile)"
   ]
  },
  {
   "cell_type": "code",
   "execution_count": 41,
   "metadata": {},
   "outputs": [
    {
     "data": {
      "text/html": [
       "<div>\n",
       "<style scoped>\n",
       "    .dataframe tbody tr th:only-of-type {\n",
       "        vertical-align: middle;\n",
       "    }\n",
       "\n",
       "    .dataframe tbody tr th {\n",
       "        vertical-align: top;\n",
       "    }\n",
       "\n",
       "    .dataframe thead th {\n",
       "        text-align: right;\n",
       "    }\n",
       "</style>\n",
       "<table border=\"1\" class=\"dataframe\">\n",
       "  <thead>\n",
       "    <tr style=\"text-align: right;\">\n",
       "      <th></th>\n",
       "      <th>annee</th>\n",
       "      <th>age</th>\n",
       "      <th>age_num</th>\n",
       "      <th>quantiles</th>\n",
       "    </tr>\n",
       "  </thead>\n",
       "  <tbody>\n",
       "    <tr>\n",
       "      <th>0</th>\n",
       "      <td>1960</td>\n",
       "      <td>None</td>\n",
       "      <td>NaN</td>\n",
       "      <td>4.400000;72.800000;20</td>\n",
       "    </tr>\n",
       "    <tr>\n",
       "      <th>1</th>\n",
       "      <td>1960</td>\n",
       "      <td>Y01</td>\n",
       "      <td>1.0</td>\n",
       "      <td>73.000000;74.000000;10</td>\n",
       "    </tr>\n",
       "    <tr>\n",
       "      <th>2</th>\n",
       "      <td>1960</td>\n",
       "      <td>Y02</td>\n",
       "      <td>2.0</td>\n",
       "      <td>72.100000;73.200000;10</td>\n",
       "    </tr>\n",
       "    <tr>\n",
       "      <th>3</th>\n",
       "      <td>1960</td>\n",
       "      <td>Y03</td>\n",
       "      <td>3.0</td>\n",
       "      <td>71.200000;72.300000;10</td>\n",
       "    </tr>\n",
       "    <tr>\n",
       "      <th>4</th>\n",
       "      <td>1960</td>\n",
       "      <td>Y04</td>\n",
       "      <td>4.0</td>\n",
       "      <td>70.300000;71.300000;10</td>\n",
       "    </tr>\n",
       "  </tbody>\n",
       "</table>\n",
       "</div>"
      ],
      "text/plain": [
       "   annee   age  age_num               quantiles\n",
       "0   1960  None      NaN   4.400000;72.800000;20\n",
       "1   1960   Y01      1.0  73.000000;74.000000;10\n",
       "2   1960   Y02      2.0  72.100000;73.200000;10\n",
       "3   1960   Y03      3.0  71.200000;72.300000;10\n",
       "4   1960   Y04      4.0  70.300000;71.300000;10"
      ]
     },
     "execution_count": 42,
     "metadata": {},
     "output_type": "execute_result"
    }
   ],
   "source": [
    "query = \"\"\"SELECT annee,age,age_num, ReducerQuantile(valeur) AS quantiles FROM mortalite \n",
    "                WHERE indicateur==\"LIFEXP\" AND genre==\"F\"\n",
    "                GROUP BY annee,age,age_num\"\"\"\n",
    "df = pandas.read_sql(query, cnx)\n",
    "df.head()"
   ]
  },
  {
   "cell_type": "markdown",
   "metadata": {},
   "source": [
    "On ferme la connexion."
   ]
  },
  {
   "cell_type": "code",
   "execution_count": 39,
   "metadata": {},
   "outputs": [],
   "source": [
    "cnx.close()"
   ]
  },
  {
   "cell_type": "markdown",
   "metadata": {
    "collapsed": true
   },
   "source": [
    "## Notion d'index"
   ]
  },
  {
   "cell_type": "markdown",
   "metadata": {},
   "source": [
    "En SQL et pour de grandes tables, la notion d'index joue un rôle important pour accélérer les opérations de jointures (``JOIN``) ou de regroupement (``GROUP BY``). L'article [A thorough guide to SQLite database operations in Python](http://sebastianraschka.com/Articles/2014_sqlite_in_python_tutorial.html) montre comment faire les principales opérations."
   ]
  },
  {
   "cell_type": "code",
   "execution_count": 43,
   "metadata": {},
   "outputs": [],
   "source": []
  }
 ],
 "metadata": {
  "kernelspec": {
   "display_name": "Python 3",
   "language": "python",
   "name": "python3"
  },
  "language_info": {
   "codemirror_mode": {
    "name": "ipython",
    "version": 3
   },
   "file_extension": ".py",
   "mimetype": "text/x-python",
   "name": "python",
   "nbconvert_exporter": "python",
   "pygments_lexer": "ipython3",
   "version": "3.10.12"
  }
 },
 "nbformat": 4,
 "nbformat_minor": 1
}